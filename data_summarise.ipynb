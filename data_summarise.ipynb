{
 "cells": [
  {
   "cell_type": "code",
   "execution_count": 29,
   "metadata": {},
   "outputs": [
    {
     "name": "stderr",
     "output_type": "stream",
     "text": [
      "Warning message in file(filename, \"r\", encoding = encoding):\n",
      "“cannot open file 'tests.R': No such file or directory”\n"
     ]
    },
    {
     "ename": "ERROR",
     "evalue": "Error in file(filename, \"r\", encoding = encoding): cannot open the connection\n",
     "output_type": "error",
     "traceback": [
      "Error in file(filename, \"r\", encoding = encoding): cannot open the connection\nTraceback:\n",
      "1. source(\"tests.R\")",
      "2. file(filename, \"r\", encoding = encoding)"
     ]
    }
   ],
   "source": [
    "library(repr)\n",
    "library(tidyverse)\n",
    "library(tidymodels)\n",
    "options(repr.matrix.max.rows = 6)\n",
    "source('tests.R')\n",
    "source(\"cleanup.R\")"
   ]
  },
  {
   "cell_type": "code",
   "execution_count": 30,
   "metadata": {},
   "outputs": [
    {
     "name": "stderr",
     "output_type": "stream",
     "text": [
      "Parsed with column specification:\n",
      "cols(\n",
      "  Area = \u001b[32mcol_double()\u001b[39m,\n",
      "  Perimeter = \u001b[32mcol_double()\u001b[39m,\n",
      "  Major_Axis_Length = \u001b[32mcol_double()\u001b[39m,\n",
      "  Minor_Axis_Length = \u001b[32mcol_double()\u001b[39m,\n",
      "  Convex_Area = \u001b[32mcol_double()\u001b[39m,\n",
      "  Equiv_Diameter = \u001b[32mcol_double()\u001b[39m,\n",
      "  Eccentricity = \u001b[32mcol_double()\u001b[39m,\n",
      "  Solidity = \u001b[32mcol_double()\u001b[39m,\n",
      "  Extent = \u001b[32mcol_double()\u001b[39m,\n",
      "  Roundness = \u001b[32mcol_double()\u001b[39m,\n",
      "  Aspect_Ration = \u001b[32mcol_double()\u001b[39m,\n",
      "  Compactness = \u001b[32mcol_double()\u001b[39m,\n",
      "  Class = \u001b[31mcol_character()\u001b[39m\n",
      ")\n",
      "\n"
     ]
    },
    {
     "data": {
      "text/html": [
       "<table>\n",
       "<caption>A spec_tbl_df: 2500 × 13</caption>\n",
       "<thead>\n",
       "\t<tr><th scope=col>Area</th><th scope=col>Perimeter</th><th scope=col>Major_Axis_Length</th><th scope=col>Minor_Axis_Length</th><th scope=col>Convex_Area</th><th scope=col>Equiv_Diameter</th><th scope=col>Eccentricity</th><th scope=col>Solidity</th><th scope=col>Extent</th><th scope=col>Roundness</th><th scope=col>Aspect_Ration</th><th scope=col>Compactness</th><th scope=col>Class</th></tr>\n",
       "\t<tr><th scope=col>&lt;dbl&gt;</th><th scope=col>&lt;dbl&gt;</th><th scope=col>&lt;dbl&gt;</th><th scope=col>&lt;dbl&gt;</th><th scope=col>&lt;dbl&gt;</th><th scope=col>&lt;dbl&gt;</th><th scope=col>&lt;dbl&gt;</th><th scope=col>&lt;dbl&gt;</th><th scope=col>&lt;dbl&gt;</th><th scope=col>&lt;dbl&gt;</th><th scope=col>&lt;dbl&gt;</th><th scope=col>&lt;dbl&gt;</th><th scope=col>&lt;fct&gt;</th></tr>\n",
       "</thead>\n",
       "<tbody>\n",
       "\t<tr><td>56276</td><td> 888.242</td><td>326.1485</td><td>220.2388</td><td>56831</td><td>267.6805</td><td>0.7376</td><td>0.9902</td><td>0.7453</td><td>0.8963</td><td>1.4809</td><td>0.8207</td><td>Cercevelik</td></tr>\n",
       "\t<tr><td>76631</td><td>1068.146</td><td>417.1932</td><td>234.2289</td><td>77280</td><td>312.3614</td><td>0.8275</td><td>0.9916</td><td>0.7151</td><td>0.8440</td><td>1.7811</td><td>0.7487</td><td>Cercevelik</td></tr>\n",
       "\t<tr><td>71623</td><td>1082.987</td><td>435.8328</td><td>211.0457</td><td>72663</td><td>301.9822</td><td>0.8749</td><td>0.9857</td><td>0.7400</td><td>0.7674</td><td>2.0651</td><td>0.6929</td><td>Cercevelik</td></tr>\n",
       "\t<tr><td>⋮</td><td>⋮</td><td>⋮</td><td>⋮</td><td>⋮</td><td>⋮</td><td>⋮</td><td>⋮</td><td>⋮</td><td>⋮</td><td>⋮</td><td>⋮</td><td>⋮</td></tr>\n",
       "\t<tr><td>87994</td><td>1210.314</td><td>507.2200</td><td>222.1872</td><td>88702</td><td>334.7199</td><td>0.8990</td><td>0.9920</td><td>0.7643</td><td>0.7549</td><td>2.2828</td><td>0.6599</td><td>Urgup Sivrisi</td></tr>\n",
       "\t<tr><td>80011</td><td>1182.947</td><td>501.9065</td><td>204.7531</td><td>80902</td><td>319.1758</td><td>0.9130</td><td>0.9890</td><td>0.7374</td><td>0.7185</td><td>2.4513</td><td>0.6359</td><td>Urgup Sivrisi</td></tr>\n",
       "\t<tr><td>84934</td><td>1159.933</td><td>462.8951</td><td>234.5597</td><td>85781</td><td>328.8485</td><td>0.8621</td><td>0.9901</td><td>0.7360</td><td>0.7933</td><td>1.9735</td><td>0.7104</td><td>Urgup Sivrisi</td></tr>\n",
       "</tbody>\n",
       "</table>\n"
      ],
      "text/latex": [
       "A spec\\_tbl\\_df: 2500 × 13\n",
       "\\begin{tabular}{lllllllllllll}\n",
       " Area & Perimeter & Major\\_Axis\\_Length & Minor\\_Axis\\_Length & Convex\\_Area & Equiv\\_Diameter & Eccentricity & Solidity & Extent & Roundness & Aspect\\_Ration & Compactness & Class\\\\\n",
       " <dbl> & <dbl> & <dbl> & <dbl> & <dbl> & <dbl> & <dbl> & <dbl> & <dbl> & <dbl> & <dbl> & <dbl> & <fct>\\\\\n",
       "\\hline\n",
       "\t 56276 &  888.242 & 326.1485 & 220.2388 & 56831 & 267.6805 & 0.7376 & 0.9902 & 0.7453 & 0.8963 & 1.4809 & 0.8207 & Cercevelik\\\\\n",
       "\t 76631 & 1068.146 & 417.1932 & 234.2289 & 77280 & 312.3614 & 0.8275 & 0.9916 & 0.7151 & 0.8440 & 1.7811 & 0.7487 & Cercevelik\\\\\n",
       "\t 71623 & 1082.987 & 435.8328 & 211.0457 & 72663 & 301.9822 & 0.8749 & 0.9857 & 0.7400 & 0.7674 & 2.0651 & 0.6929 & Cercevelik\\\\\n",
       "\t ⋮ & ⋮ & ⋮ & ⋮ & ⋮ & ⋮ & ⋮ & ⋮ & ⋮ & ⋮ & ⋮ & ⋮ & ⋮\\\\\n",
       "\t 87994 & 1210.314 & 507.2200 & 222.1872 & 88702 & 334.7199 & 0.8990 & 0.9920 & 0.7643 & 0.7549 & 2.2828 & 0.6599 & Urgup Sivrisi\\\\\n",
       "\t 80011 & 1182.947 & 501.9065 & 204.7531 & 80902 & 319.1758 & 0.9130 & 0.9890 & 0.7374 & 0.7185 & 2.4513 & 0.6359 & Urgup Sivrisi\\\\\n",
       "\t 84934 & 1159.933 & 462.8951 & 234.5597 & 85781 & 328.8485 & 0.8621 & 0.9901 & 0.7360 & 0.7933 & 1.9735 & 0.7104 & Urgup Sivrisi\\\\\n",
       "\\end{tabular}\n"
      ],
      "text/markdown": [
       "\n",
       "A spec_tbl_df: 2500 × 13\n",
       "\n",
       "| Area &lt;dbl&gt; | Perimeter &lt;dbl&gt; | Major_Axis_Length &lt;dbl&gt; | Minor_Axis_Length &lt;dbl&gt; | Convex_Area &lt;dbl&gt; | Equiv_Diameter &lt;dbl&gt; | Eccentricity &lt;dbl&gt; | Solidity &lt;dbl&gt; | Extent &lt;dbl&gt; | Roundness &lt;dbl&gt; | Aspect_Ration &lt;dbl&gt; | Compactness &lt;dbl&gt; | Class &lt;fct&gt; |\n",
       "|---|---|---|---|---|---|---|---|---|---|---|---|---|\n",
       "| 56276 |  888.242 | 326.1485 | 220.2388 | 56831 | 267.6805 | 0.7376 | 0.9902 | 0.7453 | 0.8963 | 1.4809 | 0.8207 | Cercevelik |\n",
       "| 76631 | 1068.146 | 417.1932 | 234.2289 | 77280 | 312.3614 | 0.8275 | 0.9916 | 0.7151 | 0.8440 | 1.7811 | 0.7487 | Cercevelik |\n",
       "| 71623 | 1082.987 | 435.8328 | 211.0457 | 72663 | 301.9822 | 0.8749 | 0.9857 | 0.7400 | 0.7674 | 2.0651 | 0.6929 | Cercevelik |\n",
       "| ⋮ | ⋮ | ⋮ | ⋮ | ⋮ | ⋮ | ⋮ | ⋮ | ⋮ | ⋮ | ⋮ | ⋮ | ⋮ |\n",
       "| 87994 | 1210.314 | 507.2200 | 222.1872 | 88702 | 334.7199 | 0.8990 | 0.9920 | 0.7643 | 0.7549 | 2.2828 | 0.6599 | Urgup Sivrisi |\n",
       "| 80011 | 1182.947 | 501.9065 | 204.7531 | 80902 | 319.1758 | 0.9130 | 0.9890 | 0.7374 | 0.7185 | 2.4513 | 0.6359 | Urgup Sivrisi |\n",
       "| 84934 | 1159.933 | 462.8951 | 234.5597 | 85781 | 328.8485 | 0.8621 | 0.9901 | 0.7360 | 0.7933 | 1.9735 | 0.7104 | Urgup Sivrisi |\n",
       "\n"
      ],
      "text/plain": [
       "     Area  Perimeter Major_Axis_Length Minor_Axis_Length Convex_Area\n",
       "1    56276  888.242  326.1485          220.2388          56831      \n",
       "2    76631 1068.146  417.1932          234.2289          77280      \n",
       "3    71623 1082.987  435.8328          211.0457          72663      \n",
       "⋮    ⋮     ⋮         ⋮                 ⋮                 ⋮          \n",
       "2498 87994 1210.314  507.2200          222.1872          88702      \n",
       "2499 80011 1182.947  501.9065          204.7531          80902      \n",
       "2500 84934 1159.933  462.8951          234.5597          85781      \n",
       "     Equiv_Diameter Eccentricity Solidity Extent Roundness Aspect_Ration\n",
       "1    267.6805       0.7376       0.9902   0.7453 0.8963    1.4809       \n",
       "2    312.3614       0.8275       0.9916   0.7151 0.8440    1.7811       \n",
       "3    301.9822       0.8749       0.9857   0.7400 0.7674    2.0651       \n",
       "⋮    ⋮              ⋮            ⋮        ⋮      ⋮         ⋮            \n",
       "2498 334.7199       0.8990       0.9920   0.7643 0.7549    2.2828       \n",
       "2499 319.1758       0.9130       0.9890   0.7374 0.7185    2.4513       \n",
       "2500 328.8485       0.8621       0.9901   0.7360 0.7933    1.9735       \n",
       "     Compactness Class        \n",
       "1    0.8207      Cercevelik   \n",
       "2    0.7487      Cercevelik   \n",
       "3    0.6929      Cercevelik   \n",
       "⋮    ⋮           ⋮            \n",
       "2498 0.6599      Urgup Sivrisi\n",
       "2499 0.6359      Urgup Sivrisi\n",
       "2500 0.7104      Urgup Sivrisi"
      ]
     },
     "metadata": {},
     "output_type": "display_data"
    }
   ],
   "source": [
    "#tiding\n",
    "pumpkin_data<-read_csv(\"Pumpkin_Seeds_Dataset.csv\")\n",
    "pumpkin_data[pumpkin_data==\"Çerçevelik\"]<-\"Cercevelik\"\n",
    "pumpkin_data[pumpkin_data==\"Ürgüp Sivrisi\"]<-\"Urgup Sivrisi\"\n",
    "pumpkin_data<-pumpkin_data%>%mutate(Class=as_factor(Class))\n",
    "pumpkin_data"
   ]
  },
  {
   "cell_type": "code",
   "execution_count": 31,
   "metadata": {},
   "outputs": [
    {
     "data": {
      "text/html": [
       "0"
      ],
      "text/latex": [
       "0"
      ],
      "text/markdown": [
       "0"
      ],
      "text/plain": [
       "[1] 0"
      ]
     },
     "metadata": {},
     "output_type": "display_data"
    }
   ],
   "source": [
    "# there is no NA values in our data set\n",
    "sum(is.na(pumpkin_data))"
   ]
  },
  {
   "cell_type": "code",
   "execution_count": 32,
   "metadata": {},
   "outputs": [
    {
     "data": {
      "text/html": [
       "2500"
      ],
      "text/latex": [
       "2500"
      ],
      "text/markdown": [
       "2500"
      ],
      "text/plain": [
       "[1] 2500"
      ]
     },
     "metadata": {},
     "output_type": "display_data"
    }
   ],
   "source": [
    "# there are total 2500 observations in our data set\n",
    "nrow(pumpkin_data)"
   ]
  },
  {
   "cell_type": "code",
   "execution_count": 33,
   "metadata": {},
   "outputs": [
    {
     "data": {
      "text/html": [
       "1300"
      ],
      "text/latex": [
       "1300"
      ],
      "text/markdown": [
       "1300"
      ],
      "text/plain": [
       "[1] 1300"
      ]
     },
     "metadata": {},
     "output_type": "display_data"
    }
   ],
   "source": [
    "# there are 1300 observations are Cercevelik\n",
    "Cercevelik_data <- pumpkin_data %>%\n",
    "                   filter(Class == \"Cercevelik\")\n",
    "nrow(Cercevelik_data)"
   ]
  },
  {
   "cell_type": "code",
   "execution_count": 37,
   "metadata": {},
   "outputs": [
    {
     "data": {
      "text/html": [
       "1200"
      ],
      "text/latex": [
       "1200"
      ],
      "text/markdown": [
       "1200"
      ],
      "text/plain": [
       "[1] 1200"
      ]
     },
     "metadata": {},
     "output_type": "display_data"
    }
   ],
   "source": [
    "# there are 1200 observations are Cercevelik\n",
    "Urgup_Sivrisi_data <- pumpkin_data %>%\n",
    "                   filter(Class == \"Urgup Sivrisi\")\n",
    "nrow(Urgup_Sivrisi_data)"
   ]
  },
  {
   "cell_type": "code",
   "execution_count": 38,
   "metadata": {},
   "outputs": [
    {
     "name": "stderr",
     "output_type": "stream",
     "text": [
      "`summarise()` ungrouping output (override with `.groups` argument)\n",
      "\n"
     ]
    },
    {
     "data": {
      "text/html": [
       "<table>\n",
       "<caption>A tibble: 2 × 13</caption>\n",
       "<thead>\n",
       "\t<tr><th scope=col>Class</th><th scope=col>Area_mean</th><th scope=col>Perimeter_mean</th><th scope=col>Major_Axis_Length_mean</th><th scope=col>Minor_Axis_Length_mean</th><th scope=col>Convex_Area_mean</th><th scope=col>Equiv_Diameter_mean</th><th scope=col>Eccentricity_mean</th><th scope=col>Solidity_mean</th><th scope=col>Extent_mean</th><th scope=col>Roundness_mean</th><th scope=col>Aspect_Ration_mean</th><th scope=col>Compactness_mean</th></tr>\n",
       "\t<tr><th scope=col>&lt;fct&gt;</th><th scope=col>&lt;dbl&gt;</th><th scope=col>&lt;dbl&gt;</th><th scope=col>&lt;dbl&gt;</th><th scope=col>&lt;dbl&gt;</th><th scope=col>&lt;dbl&gt;</th><th scope=col>&lt;dbl&gt;</th><th scope=col>&lt;dbl&gt;</th><th scope=col>&lt;dbl&gt;</th><th scope=col>&lt;dbl&gt;</th><th scope=col>&lt;dbl&gt;</th><th scope=col>&lt;dbl&gt;</th><th scope=col>&lt;dbl&gt;</th></tr>\n",
       "</thead>\n",
       "<tbody>\n",
       "\t<tr><td>Cercevelik   </td><td>78423.15</td><td>1089.522</td><td>426.2726</td><td>234.7769</td><td>79286.49</td><td>315.1933</td><td>0.8305382</td><td>0.9890799</td><td>0.7070178</td><td>0.8274985</td><td>1.822609</td><td>0.7411627</td></tr>\n",
       "\t<tr><td>Urgup Sivrisi</td><td>83079.54</td><td>1174.432</td><td>489.4585</td><td>216.0644</td><td>83914.81</td><td>323.8202</td><td>0.8937490</td><td>0.9899376</td><td>0.6782401</td><td>0.7525698</td><td>2.279054</td><td>0.6639915</td></tr>\n",
       "</tbody>\n",
       "</table>\n"
      ],
      "text/latex": [
       "A tibble: 2 × 13\n",
       "\\begin{tabular}{lllllllllllll}\n",
       " Class & Area\\_mean & Perimeter\\_mean & Major\\_Axis\\_Length\\_mean & Minor\\_Axis\\_Length\\_mean & Convex\\_Area\\_mean & Equiv\\_Diameter\\_mean & Eccentricity\\_mean & Solidity\\_mean & Extent\\_mean & Roundness\\_mean & Aspect\\_Ration\\_mean & Compactness\\_mean\\\\\n",
       " <fct> & <dbl> & <dbl> & <dbl> & <dbl> & <dbl> & <dbl> & <dbl> & <dbl> & <dbl> & <dbl> & <dbl> & <dbl>\\\\\n",
       "\\hline\n",
       "\t Cercevelik    & 78423.15 & 1089.522 & 426.2726 & 234.7769 & 79286.49 & 315.1933 & 0.8305382 & 0.9890799 & 0.7070178 & 0.8274985 & 1.822609 & 0.7411627\\\\\n",
       "\t Urgup Sivrisi & 83079.54 & 1174.432 & 489.4585 & 216.0644 & 83914.81 & 323.8202 & 0.8937490 & 0.9899376 & 0.6782401 & 0.7525698 & 2.279054 & 0.6639915\\\\\n",
       "\\end{tabular}\n"
      ],
      "text/markdown": [
       "\n",
       "A tibble: 2 × 13\n",
       "\n",
       "| Class &lt;fct&gt; | Area_mean &lt;dbl&gt; | Perimeter_mean &lt;dbl&gt; | Major_Axis_Length_mean &lt;dbl&gt; | Minor_Axis_Length_mean &lt;dbl&gt; | Convex_Area_mean &lt;dbl&gt; | Equiv_Diameter_mean &lt;dbl&gt; | Eccentricity_mean &lt;dbl&gt; | Solidity_mean &lt;dbl&gt; | Extent_mean &lt;dbl&gt; | Roundness_mean &lt;dbl&gt; | Aspect_Ration_mean &lt;dbl&gt; | Compactness_mean &lt;dbl&gt; |\n",
       "|---|---|---|---|---|---|---|---|---|---|---|---|---|\n",
       "| Cercevelik    | 78423.15 | 1089.522 | 426.2726 | 234.7769 | 79286.49 | 315.1933 | 0.8305382 | 0.9890799 | 0.7070178 | 0.8274985 | 1.822609 | 0.7411627 |\n",
       "| Urgup Sivrisi | 83079.54 | 1174.432 | 489.4585 | 216.0644 | 83914.81 | 323.8202 | 0.8937490 | 0.9899376 | 0.6782401 | 0.7525698 | 2.279054 | 0.6639915 |\n",
       "\n"
      ],
      "text/plain": [
       "  Class         Area_mean Perimeter_mean Major_Axis_Length_mean\n",
       "1 Cercevelik    78423.15  1089.522       426.2726              \n",
       "2 Urgup Sivrisi 83079.54  1174.432       489.4585              \n",
       "  Minor_Axis_Length_mean Convex_Area_mean Equiv_Diameter_mean Eccentricity_mean\n",
       "1 234.7769               79286.49         315.1933            0.8305382        \n",
       "2 216.0644               83914.81         323.8202            0.8937490        \n",
       "  Solidity_mean Extent_mean Roundness_mean Aspect_Ration_mean Compactness_mean\n",
       "1 0.9890799     0.7070178   0.8274985      1.822609           0.7411627       \n",
       "2 0.9899376     0.6782401   0.7525698      2.279054           0.6639915       "
      ]
     },
     "metadata": {},
     "output_type": "display_data"
    }
   ],
   "source": [
    "# summarise the mean value data for both Cercevelik and Urgup Sivrisi\n",
    "pumpkin_data_mean <- pumpkin_data %>%\n",
    "group_by(Class) %>%\n",
    "summarise(across(everything(), list(mean = mean)))\n",
    "pumpkin_data_mean"
   ]
  },
  {
   "cell_type": "code",
   "execution_count": 39,
   "metadata": {},
   "outputs": [
    {
     "name": "stderr",
     "output_type": "stream",
     "text": [
      "`summarise()` ungrouping output (override with `.groups` argument)\n",
      "\n"
     ]
    },
    {
     "data": {
      "text/html": [
       "<table>\n",
       "<caption>A tibble: 2 × 13</caption>\n",
       "<thead>\n",
       "\t<tr><th scope=col>Class</th><th scope=col>Area_min</th><th scope=col>Perimeter_min</th><th scope=col>Major_Axis_Length_min</th><th scope=col>Minor_Axis_Length_min</th><th scope=col>Convex_Area_min</th><th scope=col>Equiv_Diameter_min</th><th scope=col>Eccentricity_min</th><th scope=col>Solidity_min</th><th scope=col>Extent_min</th><th scope=col>Roundness_min</th><th scope=col>Aspect_Ration_min</th><th scope=col>Compactness_min</th></tr>\n",
       "\t<tr><th scope=col>&lt;fct&gt;</th><th scope=col>&lt;dbl&gt;</th><th scope=col>&lt;dbl&gt;</th><th scope=col>&lt;dbl&gt;</th><th scope=col>&lt;dbl&gt;</th><th scope=col>&lt;dbl&gt;</th><th scope=col>&lt;dbl&gt;</th><th scope=col>&lt;dbl&gt;</th><th scope=col>&lt;dbl&gt;</th><th scope=col>&lt;dbl&gt;</th><th scope=col>&lt;dbl&gt;</th><th scope=col>&lt;dbl&gt;</th><th scope=col>&lt;dbl&gt;</th></tr>\n",
       "</thead>\n",
       "<tbody>\n",
       "\t<tr><td>Cercevelik   </td><td>55811</td><td>888.242</td><td>320.8446</td><td>185.8440</td><td>56394</td><td>266.5723</td><td>0.4921</td><td>0.9542</td><td>0.5071</td><td>0.6153</td><td>1.1487</td><td>0.5884</td></tr>\n",
       "\t<tr><td>Urgup Sivrisi</td><td>47939</td><td>868.485</td><td>324.0113</td><td>152.1718</td><td>48366</td><td>247.0584</td><td>0.7507</td><td>0.9186</td><td>0.4680</td><td>0.5546</td><td>1.5138</td><td>0.5608</td></tr>\n",
       "</tbody>\n",
       "</table>\n"
      ],
      "text/latex": [
       "A tibble: 2 × 13\n",
       "\\begin{tabular}{lllllllllllll}\n",
       " Class & Area\\_min & Perimeter\\_min & Major\\_Axis\\_Length\\_min & Minor\\_Axis\\_Length\\_min & Convex\\_Area\\_min & Equiv\\_Diameter\\_min & Eccentricity\\_min & Solidity\\_min & Extent\\_min & Roundness\\_min & Aspect\\_Ration\\_min & Compactness\\_min\\\\\n",
       " <fct> & <dbl> & <dbl> & <dbl> & <dbl> & <dbl> & <dbl> & <dbl> & <dbl> & <dbl> & <dbl> & <dbl> & <dbl>\\\\\n",
       "\\hline\n",
       "\t Cercevelik    & 55811 & 888.242 & 320.8446 & 185.8440 & 56394 & 266.5723 & 0.4921 & 0.9542 & 0.5071 & 0.6153 & 1.1487 & 0.5884\\\\\n",
       "\t Urgup Sivrisi & 47939 & 868.485 & 324.0113 & 152.1718 & 48366 & 247.0584 & 0.7507 & 0.9186 & 0.4680 & 0.5546 & 1.5138 & 0.5608\\\\\n",
       "\\end{tabular}\n"
      ],
      "text/markdown": [
       "\n",
       "A tibble: 2 × 13\n",
       "\n",
       "| Class &lt;fct&gt; | Area_min &lt;dbl&gt; | Perimeter_min &lt;dbl&gt; | Major_Axis_Length_min &lt;dbl&gt; | Minor_Axis_Length_min &lt;dbl&gt; | Convex_Area_min &lt;dbl&gt; | Equiv_Diameter_min &lt;dbl&gt; | Eccentricity_min &lt;dbl&gt; | Solidity_min &lt;dbl&gt; | Extent_min &lt;dbl&gt; | Roundness_min &lt;dbl&gt; | Aspect_Ration_min &lt;dbl&gt; | Compactness_min &lt;dbl&gt; |\n",
       "|---|---|---|---|---|---|---|---|---|---|---|---|---|\n",
       "| Cercevelik    | 55811 | 888.242 | 320.8446 | 185.8440 | 56394 | 266.5723 | 0.4921 | 0.9542 | 0.5071 | 0.6153 | 1.1487 | 0.5884 |\n",
       "| Urgup Sivrisi | 47939 | 868.485 | 324.0113 | 152.1718 | 48366 | 247.0584 | 0.7507 | 0.9186 | 0.4680 | 0.5546 | 1.5138 | 0.5608 |\n",
       "\n"
      ],
      "text/plain": [
       "  Class         Area_min Perimeter_min Major_Axis_Length_min\n",
       "1 Cercevelik    55811    888.242       320.8446             \n",
       "2 Urgup Sivrisi 47939    868.485       324.0113             \n",
       "  Minor_Axis_Length_min Convex_Area_min Equiv_Diameter_min Eccentricity_min\n",
       "1 185.8440              56394           266.5723           0.4921          \n",
       "2 152.1718              48366           247.0584           0.7507          \n",
       "  Solidity_min Extent_min Roundness_min Aspect_Ration_min Compactness_min\n",
       "1 0.9542       0.5071     0.6153        1.1487            0.5884         \n",
       "2 0.9186       0.4680     0.5546        1.5138            0.5608         "
      ]
     },
     "metadata": {},
     "output_type": "display_data"
    }
   ],
   "source": [
    "# summarise the min value data for both Cercevelik and Urgup Sivrisi\n",
    "pumpkin_data_min <- pumpkin_data %>%\n",
    "group_by(Class) %>%\n",
    "summarise(across(everything(), list(min = min)))\n",
    "pumpkin_data_min"
   ]
  },
  {
   "cell_type": "code",
   "execution_count": 40,
   "metadata": {},
   "outputs": [
    {
     "name": "stderr",
     "output_type": "stream",
     "text": [
      "`summarise()` ungrouping output (override with `.groups` argument)\n",
      "\n"
     ]
    },
    {
     "data": {
      "text/html": [
       "<table>\n",
       "<caption>A tibble: 2 × 13</caption>\n",
       "<thead>\n",
       "\t<tr><th scope=col>Class</th><th scope=col>Area_max</th><th scope=col>Perimeter_max</th><th scope=col>Major_Axis_Length_max</th><th scope=col>Minor_Axis_Length_max</th><th scope=col>Convex_Area_max</th><th scope=col>Equiv_Diameter_max</th><th scope=col>Eccentricity_max</th><th scope=col>Solidity_max</th><th scope=col>Extent_max</th><th scope=col>Roundness_max</th><th scope=col>Aspect_Ration_max</th><th scope=col>Compactness_max</th></tr>\n",
       "\t<tr><th scope=col>&lt;fct&gt;</th><th scope=col>&lt;dbl&gt;</th><th scope=col>&lt;dbl&gt;</th><th scope=col>&lt;dbl&gt;</th><th scope=col>&lt;dbl&gt;</th><th scope=col>&lt;dbl&gt;</th><th scope=col>&lt;dbl&gt;</th><th scope=col>&lt;dbl&gt;</th><th scope=col>&lt;dbl&gt;</th><th scope=col>&lt;dbl&gt;</th><th scope=col>&lt;dbl&gt;</th><th scope=col>&lt;dbl&gt;</th><th scope=col>&lt;dbl&gt;</th></tr>\n",
       "</thead>\n",
       "<tbody>\n",
       "\t<tr><td>Cercevelik   </td><td>107476</td><td>1416.303</td><td>614.8959</td><td>305.8180</td><td>108536</td><td>369.9226</td><td>0.9360</td><td>0.9939</td><td>0.7814</td><td>0.9396</td><td>2.8410</td><td>0.9049</td></tr>\n",
       "\t<tr><td>Urgup Sivrisi</td><td>136574</td><td>1559.450</td><td>661.9113</td><td>297.7952</td><td>138384</td><td>417.0029</td><td>0.9481</td><td>0.9944</td><td>0.8296</td><td>0.8967</td><td>3.1444</td><td>0.8102</td></tr>\n",
       "</tbody>\n",
       "</table>\n"
      ],
      "text/latex": [
       "A tibble: 2 × 13\n",
       "\\begin{tabular}{lllllllllllll}\n",
       " Class & Area\\_max & Perimeter\\_max & Major\\_Axis\\_Length\\_max & Minor\\_Axis\\_Length\\_max & Convex\\_Area\\_max & Equiv\\_Diameter\\_max & Eccentricity\\_max & Solidity\\_max & Extent\\_max & Roundness\\_max & Aspect\\_Ration\\_max & Compactness\\_max\\\\\n",
       " <fct> & <dbl> & <dbl> & <dbl> & <dbl> & <dbl> & <dbl> & <dbl> & <dbl> & <dbl> & <dbl> & <dbl> & <dbl>\\\\\n",
       "\\hline\n",
       "\t Cercevelik    & 107476 & 1416.303 & 614.8959 & 305.8180 & 108536 & 369.9226 & 0.9360 & 0.9939 & 0.7814 & 0.9396 & 2.8410 & 0.9049\\\\\n",
       "\t Urgup Sivrisi & 136574 & 1559.450 & 661.9113 & 297.7952 & 138384 & 417.0029 & 0.9481 & 0.9944 & 0.8296 & 0.8967 & 3.1444 & 0.8102\\\\\n",
       "\\end{tabular}\n"
      ],
      "text/markdown": [
       "\n",
       "A tibble: 2 × 13\n",
       "\n",
       "| Class &lt;fct&gt; | Area_max &lt;dbl&gt; | Perimeter_max &lt;dbl&gt; | Major_Axis_Length_max &lt;dbl&gt; | Minor_Axis_Length_max &lt;dbl&gt; | Convex_Area_max &lt;dbl&gt; | Equiv_Diameter_max &lt;dbl&gt; | Eccentricity_max &lt;dbl&gt; | Solidity_max &lt;dbl&gt; | Extent_max &lt;dbl&gt; | Roundness_max &lt;dbl&gt; | Aspect_Ration_max &lt;dbl&gt; | Compactness_max &lt;dbl&gt; |\n",
       "|---|---|---|---|---|---|---|---|---|---|---|---|---|\n",
       "| Cercevelik    | 107476 | 1416.303 | 614.8959 | 305.8180 | 108536 | 369.9226 | 0.9360 | 0.9939 | 0.7814 | 0.9396 | 2.8410 | 0.9049 |\n",
       "| Urgup Sivrisi | 136574 | 1559.450 | 661.9113 | 297.7952 | 138384 | 417.0029 | 0.9481 | 0.9944 | 0.8296 | 0.8967 | 3.1444 | 0.8102 |\n",
       "\n"
      ],
      "text/plain": [
       "  Class         Area_max Perimeter_max Major_Axis_Length_max\n",
       "1 Cercevelik    107476   1416.303      614.8959             \n",
       "2 Urgup Sivrisi 136574   1559.450      661.9113             \n",
       "  Minor_Axis_Length_max Convex_Area_max Equiv_Diameter_max Eccentricity_max\n",
       "1 305.8180              108536          369.9226           0.9360          \n",
       "2 297.7952              138384          417.0029           0.9481          \n",
       "  Solidity_max Extent_max Roundness_max Aspect_Ration_max Compactness_max\n",
       "1 0.9939       0.7814     0.9396        2.8410            0.9049         \n",
       "2 0.9944       0.8296     0.8967        3.1444            0.8102         "
      ]
     },
     "metadata": {},
     "output_type": "display_data"
    }
   ],
   "source": [
    "# summarise the max value data for both Cercevelik and Urgup Sivrisi\n",
    "pumpkin_data_max <- pumpkin_data %>%\n",
    "group_by(Class) %>%\n",
    "summarise(across(everything(), list(max = max)))\n",
    "pumpkin_data_max"
   ]
  }
 ],
 "metadata": {
  "kernelspec": {
   "display_name": "R",
   "language": "R",
   "name": "ir"
  },
  "language_info": {
   "codemirror_mode": "r",
   "file_extension": ".r",
   "mimetype": "text/x-r-source",
   "name": "R",
   "pygments_lexer": "r",
   "version": "4.0.0"
  }
 },
 "nbformat": 4,
 "nbformat_minor": 4
}
