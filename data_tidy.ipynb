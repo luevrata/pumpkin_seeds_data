{
 "cells": [
  {
   "cell_type": "code",
   "execution_count": 1,
   "metadata": {},
   "outputs": [
    {
     "name": "stderr",
     "output_type": "stream",
     "text": [
      "── \u001b[1mAttaching packages\u001b[22m ─────────────────────────────────────── tidyverse 1.3.0 ──\n",
      "\n",
      "\u001b[32m✔\u001b[39m \u001b[34mggplot2\u001b[39m 3.3.2     \u001b[32m✔\u001b[39m \u001b[34mpurrr  \u001b[39m 0.3.4\n",
      "\u001b[32m✔\u001b[39m \u001b[34mtibble \u001b[39m 3.0.3     \u001b[32m✔\u001b[39m \u001b[34mdplyr  \u001b[39m 1.0.2\n",
      "\u001b[32m✔\u001b[39m \u001b[34mtidyr  \u001b[39m 1.1.2     \u001b[32m✔\u001b[39m \u001b[34mstringr\u001b[39m 1.4.0\n",
      "\u001b[32m✔\u001b[39m \u001b[34mreadr  \u001b[39m 1.3.1     \u001b[32m✔\u001b[39m \u001b[34mforcats\u001b[39m 0.5.0\n",
      "\n",
      "Warning message:\n",
      "“package ‘ggplot2’ was built under R version 4.0.1”\n",
      "Warning message:\n",
      "“package ‘tibble’ was built under R version 4.0.2”\n",
      "Warning message:\n",
      "“package ‘tidyr’ was built under R version 4.0.2”\n",
      "Warning message:\n",
      "“package ‘dplyr’ was built under R version 4.0.2”\n",
      "── \u001b[1mConflicts\u001b[22m ────────────────────────────────────────── tidyverse_conflicts() ──\n",
      "\u001b[31m✖\u001b[39m \u001b[34mdplyr\u001b[39m::\u001b[32mfilter()\u001b[39m masks \u001b[34mstats\u001b[39m::filter()\n",
      "\u001b[31m✖\u001b[39m \u001b[34mdplyr\u001b[39m::\u001b[32mlag()\u001b[39m    masks \u001b[34mstats\u001b[39m::lag()\n",
      "\n",
      "Warning message:\n",
      "“package ‘tidymodels’ was built under R version 4.0.2”\n",
      "── \u001b[1mAttaching packages\u001b[22m ────────────────────────────────────── tidymodels 0.1.1 ──\n",
      "\n",
      "\u001b[32m✔\u001b[39m \u001b[34mbroom    \u001b[39m 0.7.0      \u001b[32m✔\u001b[39m \u001b[34mrecipes  \u001b[39m 0.1.13\n",
      "\u001b[32m✔\u001b[39m \u001b[34mdials    \u001b[39m 0.0.9      \u001b[32m✔\u001b[39m \u001b[34mrsample  \u001b[39m 0.0.7 \n",
      "\u001b[32m✔\u001b[39m \u001b[34minfer    \u001b[39m 0.5.4      \u001b[32m✔\u001b[39m \u001b[34mtune     \u001b[39m 0.1.1 \n",
      "\u001b[32m✔\u001b[39m \u001b[34mmodeldata\u001b[39m 0.0.2      \u001b[32m✔\u001b[39m \u001b[34mworkflows\u001b[39m 0.2.0 \n",
      "\u001b[32m✔\u001b[39m \u001b[34mparsnip  \u001b[39m 0.1.3      \u001b[32m✔\u001b[39m \u001b[34myardstick\u001b[39m 0.0.7 \n",
      "\n",
      "Warning message:\n",
      "“package ‘broom’ was built under R version 4.0.2”\n",
      "Warning message:\n",
      "“package ‘dials’ was built under R version 4.0.2”\n",
      "Warning message:\n",
      "“package ‘infer’ was built under R version 4.0.3”\n",
      "Warning message:\n",
      "“package ‘modeldata’ was built under R version 4.0.1”\n",
      "Warning message:\n",
      "“package ‘parsnip’ was built under R version 4.0.2”\n",
      "Warning message:\n",
      "“package ‘recipes’ was built under R version 4.0.1”\n",
      "Warning message:\n",
      "“package ‘tune’ was built under R version 4.0.2”\n",
      "Warning message:\n",
      "“package ‘workflows’ was built under R version 4.0.2”\n",
      "Warning message:\n",
      "“package ‘yardstick’ was built under R version 4.0.2”\n",
      "── \u001b[1mConflicts\u001b[22m ───────────────────────────────────────── tidymodels_conflicts() ──\n",
      "\u001b[31m✖\u001b[39m \u001b[34mscales\u001b[39m::\u001b[32mdiscard()\u001b[39m masks \u001b[34mpurrr\u001b[39m::discard()\n",
      "\u001b[31m✖\u001b[39m \u001b[34mdplyr\u001b[39m::\u001b[32mfilter()\u001b[39m   masks \u001b[34mstats\u001b[39m::filter()\n",
      "\u001b[31m✖\u001b[39m \u001b[34mrecipes\u001b[39m::\u001b[32mfixed()\u001b[39m  masks \u001b[34mstringr\u001b[39m::fixed()\n",
      "\u001b[31m✖\u001b[39m \u001b[34mdplyr\u001b[39m::\u001b[32mlag()\u001b[39m      masks \u001b[34mstats\u001b[39m::lag()\n",
      "\u001b[31m✖\u001b[39m \u001b[34myardstick\u001b[39m::\u001b[32mspec()\u001b[39m masks \u001b[34mreadr\u001b[39m::spec()\n",
      "\u001b[31m✖\u001b[39m \u001b[34mrecipes\u001b[39m::\u001b[32mstep()\u001b[39m   masks \u001b[34mstats\u001b[39m::step()\n",
      "\n",
      "Warning message in file(filename, \"r\", encoding = encoding):\n",
      "“cannot open file 'tests.R': No such file or directory”\n"
     ]
    },
    {
     "ename": "ERROR",
     "evalue": "Error in file(filename, \"r\", encoding = encoding): cannot open the connection\n",
     "output_type": "error",
     "traceback": [
      "Error in file(filename, \"r\", encoding = encoding): cannot open the connection\nTraceback:\n",
      "1. source(\"tests.R\")",
      "2. file(filename, \"r\", encoding = encoding)"
     ]
    }
   ],
   "source": [
    "library(repr)\n",
    "library(tidyverse)\n",
    "library(tidymodels)\n",
    "options(repr.matrix.max.rows = 6)\n",
    "source('tests.R')\n",
    "source(\"cleanup.R\")"
   ]
  },
  {
   "cell_type": "code",
   "execution_count": 2,
   "metadata": {},
   "outputs": [
    {
     "name": "stderr",
     "output_type": "stream",
     "text": [
      "Parsed with column specification:\n",
      "cols(\n",
      "  Area = \u001b[32mcol_double()\u001b[39m,\n",
      "  Perimeter = \u001b[32mcol_double()\u001b[39m,\n",
      "  Major_Axis_Length = \u001b[32mcol_double()\u001b[39m,\n",
      "  Minor_Axis_Length = \u001b[32mcol_double()\u001b[39m,\n",
      "  Convex_Area = \u001b[32mcol_double()\u001b[39m,\n",
      "  Equiv_Diameter = \u001b[32mcol_double()\u001b[39m,\n",
      "  Eccentricity = \u001b[32mcol_double()\u001b[39m,\n",
      "  Solidity = \u001b[32mcol_double()\u001b[39m,\n",
      "  Extent = \u001b[32mcol_double()\u001b[39m,\n",
      "  Roundness = \u001b[32mcol_double()\u001b[39m,\n",
      "  Aspect_Ration = \u001b[32mcol_double()\u001b[39m,\n",
      "  Compactness = \u001b[32mcol_double()\u001b[39m,\n",
      "  Class = \u001b[31mcol_character()\u001b[39m\n",
      ")\n",
      "\n"
     ]
    },
    {
     "data": {
      "text/html": [
       "<table>\n",
       "<caption>A spec_tbl_df: 2500 × 13</caption>\n",
       "<thead>\n",
       "\t<tr><th scope=col>Area</th><th scope=col>Perimeter</th><th scope=col>Major_Axis_Length</th><th scope=col>Minor_Axis_Length</th><th scope=col>Convex_Area</th><th scope=col>Equiv_Diameter</th><th scope=col>Eccentricity</th><th scope=col>Solidity</th><th scope=col>Extent</th><th scope=col>Roundness</th><th scope=col>Aspect_Ration</th><th scope=col>Compactness</th><th scope=col>Class</th></tr>\n",
       "\t<tr><th scope=col>&lt;dbl&gt;</th><th scope=col>&lt;dbl&gt;</th><th scope=col>&lt;dbl&gt;</th><th scope=col>&lt;dbl&gt;</th><th scope=col>&lt;dbl&gt;</th><th scope=col>&lt;dbl&gt;</th><th scope=col>&lt;dbl&gt;</th><th scope=col>&lt;dbl&gt;</th><th scope=col>&lt;dbl&gt;</th><th scope=col>&lt;dbl&gt;</th><th scope=col>&lt;dbl&gt;</th><th scope=col>&lt;dbl&gt;</th><th scope=col>&lt;fct&gt;</th></tr>\n",
       "</thead>\n",
       "<tbody>\n",
       "\t<tr><td>56276</td><td> 888.242</td><td>326.1485</td><td>220.2388</td><td>56831</td><td>267.6805</td><td>0.7376</td><td>0.9902</td><td>0.7453</td><td>0.8963</td><td>1.4809</td><td>0.8207</td><td>Cercevelik</td></tr>\n",
       "\t<tr><td>76631</td><td>1068.146</td><td>417.1932</td><td>234.2289</td><td>77280</td><td>312.3614</td><td>0.8275</td><td>0.9916</td><td>0.7151</td><td>0.8440</td><td>1.7811</td><td>0.7487</td><td>Cercevelik</td></tr>\n",
       "\t<tr><td>71623</td><td>1082.987</td><td>435.8328</td><td>211.0457</td><td>72663</td><td>301.9822</td><td>0.8749</td><td>0.9857</td><td>0.7400</td><td>0.7674</td><td>2.0651</td><td>0.6929</td><td>Cercevelik</td></tr>\n",
       "\t<tr><td>⋮</td><td>⋮</td><td>⋮</td><td>⋮</td><td>⋮</td><td>⋮</td><td>⋮</td><td>⋮</td><td>⋮</td><td>⋮</td><td>⋮</td><td>⋮</td><td>⋮</td></tr>\n",
       "\t<tr><td>87994</td><td>1210.314</td><td>507.2200</td><td>222.1872</td><td>88702</td><td>334.7199</td><td>0.8990</td><td>0.9920</td><td>0.7643</td><td>0.7549</td><td>2.2828</td><td>0.6599</td><td>Urgup Sivrisi</td></tr>\n",
       "\t<tr><td>80011</td><td>1182.947</td><td>501.9065</td><td>204.7531</td><td>80902</td><td>319.1758</td><td>0.9130</td><td>0.9890</td><td>0.7374</td><td>0.7185</td><td>2.4513</td><td>0.6359</td><td>Urgup Sivrisi</td></tr>\n",
       "\t<tr><td>84934</td><td>1159.933</td><td>462.8951</td><td>234.5597</td><td>85781</td><td>328.8485</td><td>0.8621</td><td>0.9901</td><td>0.7360</td><td>0.7933</td><td>1.9735</td><td>0.7104</td><td>Urgup Sivrisi</td></tr>\n",
       "</tbody>\n",
       "</table>\n"
      ],
      "text/latex": [
       "A spec\\_tbl\\_df: 2500 × 13\n",
       "\\begin{tabular}{lllllllllllll}\n",
       " Area & Perimeter & Major\\_Axis\\_Length & Minor\\_Axis\\_Length & Convex\\_Area & Equiv\\_Diameter & Eccentricity & Solidity & Extent & Roundness & Aspect\\_Ration & Compactness & Class\\\\\n",
       " <dbl> & <dbl> & <dbl> & <dbl> & <dbl> & <dbl> & <dbl> & <dbl> & <dbl> & <dbl> & <dbl> & <dbl> & <fct>\\\\\n",
       "\\hline\n",
       "\t 56276 &  888.242 & 326.1485 & 220.2388 & 56831 & 267.6805 & 0.7376 & 0.9902 & 0.7453 & 0.8963 & 1.4809 & 0.8207 & Cercevelik\\\\\n",
       "\t 76631 & 1068.146 & 417.1932 & 234.2289 & 77280 & 312.3614 & 0.8275 & 0.9916 & 0.7151 & 0.8440 & 1.7811 & 0.7487 & Cercevelik\\\\\n",
       "\t 71623 & 1082.987 & 435.8328 & 211.0457 & 72663 & 301.9822 & 0.8749 & 0.9857 & 0.7400 & 0.7674 & 2.0651 & 0.6929 & Cercevelik\\\\\n",
       "\t ⋮ & ⋮ & ⋮ & ⋮ & ⋮ & ⋮ & ⋮ & ⋮ & ⋮ & ⋮ & ⋮ & ⋮ & ⋮\\\\\n",
       "\t 87994 & 1210.314 & 507.2200 & 222.1872 & 88702 & 334.7199 & 0.8990 & 0.9920 & 0.7643 & 0.7549 & 2.2828 & 0.6599 & Urgup Sivrisi\\\\\n",
       "\t 80011 & 1182.947 & 501.9065 & 204.7531 & 80902 & 319.1758 & 0.9130 & 0.9890 & 0.7374 & 0.7185 & 2.4513 & 0.6359 & Urgup Sivrisi\\\\\n",
       "\t 84934 & 1159.933 & 462.8951 & 234.5597 & 85781 & 328.8485 & 0.8621 & 0.9901 & 0.7360 & 0.7933 & 1.9735 & 0.7104 & Urgup Sivrisi\\\\\n",
       "\\end{tabular}\n"
      ],
      "text/markdown": [
       "\n",
       "A spec_tbl_df: 2500 × 13\n",
       "\n",
       "| Area &lt;dbl&gt; | Perimeter &lt;dbl&gt; | Major_Axis_Length &lt;dbl&gt; | Minor_Axis_Length &lt;dbl&gt; | Convex_Area &lt;dbl&gt; | Equiv_Diameter &lt;dbl&gt; | Eccentricity &lt;dbl&gt; | Solidity &lt;dbl&gt; | Extent &lt;dbl&gt; | Roundness &lt;dbl&gt; | Aspect_Ration &lt;dbl&gt; | Compactness &lt;dbl&gt; | Class &lt;fct&gt; |\n",
       "|---|---|---|---|---|---|---|---|---|---|---|---|---|\n",
       "| 56276 |  888.242 | 326.1485 | 220.2388 | 56831 | 267.6805 | 0.7376 | 0.9902 | 0.7453 | 0.8963 | 1.4809 | 0.8207 | Cercevelik |\n",
       "| 76631 | 1068.146 | 417.1932 | 234.2289 | 77280 | 312.3614 | 0.8275 | 0.9916 | 0.7151 | 0.8440 | 1.7811 | 0.7487 | Cercevelik |\n",
       "| 71623 | 1082.987 | 435.8328 | 211.0457 | 72663 | 301.9822 | 0.8749 | 0.9857 | 0.7400 | 0.7674 | 2.0651 | 0.6929 | Cercevelik |\n",
       "| ⋮ | ⋮ | ⋮ | ⋮ | ⋮ | ⋮ | ⋮ | ⋮ | ⋮ | ⋮ | ⋮ | ⋮ | ⋮ |\n",
       "| 87994 | 1210.314 | 507.2200 | 222.1872 | 88702 | 334.7199 | 0.8990 | 0.9920 | 0.7643 | 0.7549 | 2.2828 | 0.6599 | Urgup Sivrisi |\n",
       "| 80011 | 1182.947 | 501.9065 | 204.7531 | 80902 | 319.1758 | 0.9130 | 0.9890 | 0.7374 | 0.7185 | 2.4513 | 0.6359 | Urgup Sivrisi |\n",
       "| 84934 | 1159.933 | 462.8951 | 234.5597 | 85781 | 328.8485 | 0.8621 | 0.9901 | 0.7360 | 0.7933 | 1.9735 | 0.7104 | Urgup Sivrisi |\n",
       "\n"
      ],
      "text/plain": [
       "     Area  Perimeter Major_Axis_Length Minor_Axis_Length Convex_Area\n",
       "1    56276  888.242  326.1485          220.2388          56831      \n",
       "2    76631 1068.146  417.1932          234.2289          77280      \n",
       "3    71623 1082.987  435.8328          211.0457          72663      \n",
       "⋮    ⋮     ⋮         ⋮                 ⋮                 ⋮          \n",
       "2498 87994 1210.314  507.2200          222.1872          88702      \n",
       "2499 80011 1182.947  501.9065          204.7531          80902      \n",
       "2500 84934 1159.933  462.8951          234.5597          85781      \n",
       "     Equiv_Diameter Eccentricity Solidity Extent Roundness Aspect_Ration\n",
       "1    267.6805       0.7376       0.9902   0.7453 0.8963    1.4809       \n",
       "2    312.3614       0.8275       0.9916   0.7151 0.8440    1.7811       \n",
       "3    301.9822       0.8749       0.9857   0.7400 0.7674    2.0651       \n",
       "⋮    ⋮              ⋮            ⋮        ⋮      ⋮         ⋮            \n",
       "2498 334.7199       0.8990       0.9920   0.7643 0.7549    2.2828       \n",
       "2499 319.1758       0.9130       0.9890   0.7374 0.7185    2.4513       \n",
       "2500 328.8485       0.8621       0.9901   0.7360 0.7933    1.9735       \n",
       "     Compactness Class        \n",
       "1    0.8207      Cercevelik   \n",
       "2    0.7487      Cercevelik   \n",
       "3    0.6929      Cercevelik   \n",
       "⋮    ⋮           ⋮            \n",
       "2498 0.6599      Urgup Sivrisi\n",
       "2499 0.6359      Urgup Sivrisi\n",
       "2500 0.7104      Urgup Sivrisi"
      ]
     },
     "metadata": {},
     "output_type": "display_data"
    }
   ],
   "source": [
    "#tiding\n",
    "pumpkin_data<-read_csv(\"Pumpkin_Seeds_Dataset.csv\")\n",
    "pumpkin_data[pumpkin_data==\"Çerçevelik\"]<-\"Cercevelik\"\n",
    "pumpkin_data[pumpkin_data==\"Ürgüp Sivrisi\"]<-\"Urgup Sivrisi\"\n",
    "pumpkin_data<-pumpkin_data%>%mutate(Class=as_factor(Class))\n",
    "pumpkin_data"
   ]
  },
  {
   "cell_type": "code",
   "execution_count": 3,
   "metadata": {},
   "outputs": [],
   "source": [
    "pumpkin_split<-initial_split(pumpkin_data, prop = 0.75, strata = Class)\n",
    "pumpkin_train <- training(pumpkin_split)\n",
    "pumpkin_test <- testing(pumpkin_split)\n"
   ]
  },
  {
   "cell_type": "code",
   "execution_count": 6,
   "metadata": {},
   "outputs": [
    {
     "data": {
      "image/png": "[encoded data removed]",
      "text/plain": [
       "plot without title"
      ]
     },
     "metadata": {
      "image/png": {
       "height": 420,
       "width": 420
      }
     },
     "output_type": "display_data"
    }
   ],
   "source": [
    "set.seed(2020) # DO NOT REMOVE\n",
    "\n",
    "\n",
    "#Error: if I uncomment centering in the line below it gives me an error, so that I cannnot gind best number of neighbors we should use\n",
    "#Not all functions are allowed in step function selectors (e.g. `all_pedictors`). See ?selections  - the error\n",
    "#Try doing it and you'll see\n",
    "#I am not sure why\n",
    "\n",
    "pumpkin_recipe<-recipe(Class~., data = pumpkin_train)%>%step_scale(all_predictors())#%>%step_center(all_pedictors())\n",
    "\n",
    "pumpkin_model<-nearest_neighbor(weight_func=\"rectangular\", neighbors = tune())%>% set_engine(\"kknn\") %>%set_mode(\"classification\")\n",
    "\n",
    "pumpkin_vfold<-vfold_cv(pumpkin_train, v = 5, strata = Class)\n",
    "\n",
    "pumpkin_workflow<-workflow()%>%add_recipe(pumpkin_recipe)%>%add_model(pumpkin_model)\n",
    "\n",
    "pumpkin_metrics<-pumpkin_workflow%>%tune_grid(resamples = pumpkin_vfold, grid = 15)%>%collect_metrics()\n",
    "\n",
    "\n",
    "accuracies<-pumpkin_metrics%>%filter(.metric==\"accuracy\")\n",
    "\n",
    "\n",
    "best_k<-accuracies%>% arrange(desc(mean))%>%select(neighbors)%>%slice(1)%>%pull()\n",
    "\n",
    "cross_val_plot<-accuracies%>% ggplot(aes(x = neighbors, y = mean)) + geom_point() + geom_line() +labs(x = \"K neighbors\", y = \"Accuracy\")\n",
    "cross_val_plot\n",
    "\n"
   ]
  },
  {
   "cell_type": "code",
   "execution_count": 7,
   "metadata": {},
   "outputs": [
    {
     "data": {
      "text/html": [
       "<table>\n",
       "<caption>A tibble: 625 × 14</caption>\n",
       "<thead>\n",
       "\t<tr><th scope=col>.pred_class</th><th scope=col>Area</th><th scope=col>Perimeter</th><th scope=col>Major_Axis_Length</th><th scope=col>Minor_Axis_Length</th><th scope=col>Convex_Area</th><th scope=col>Equiv_Diameter</th><th scope=col>Eccentricity</th><th scope=col>Solidity</th><th scope=col>Extent</th><th scope=col>Roundness</th><th scope=col>Aspect_Ration</th><th scope=col>Compactness</th><th scope=col>Class</th></tr>\n",
       "\t<tr><th scope=col>&lt;fct&gt;</th><th scope=col>&lt;dbl&gt;</th><th scope=col>&lt;dbl&gt;</th><th scope=col>&lt;dbl&gt;</th><th scope=col>&lt;dbl&gt;</th><th scope=col>&lt;dbl&gt;</th><th scope=col>&lt;dbl&gt;</th><th scope=col>&lt;dbl&gt;</th><th scope=col>&lt;dbl&gt;</th><th scope=col>&lt;dbl&gt;</th><th scope=col>&lt;dbl&gt;</th><th scope=col>&lt;dbl&gt;</th><th scope=col>&lt;dbl&gt;</th><th scope=col>&lt;fct&gt;</th></tr>\n",
       "</thead>\n",
       "<tbody>\n",
       "\t<tr><td>Cercevelik</td><td>56276</td><td> 888.242</td><td>326.1485</td><td>220.2388</td><td>56831</td><td>267.6805</td><td>0.7376</td><td>0.9902</td><td>0.7453</td><td>0.8963</td><td>1.4809</td><td>0.8207</td><td>Cercevelik</td></tr>\n",
       "\t<tr><td>Cercevelik</td><td>76631</td><td>1068.146</td><td>417.1932</td><td>234.2289</td><td>77280</td><td>312.3614</td><td>0.8275</td><td>0.9916</td><td>0.7151</td><td>0.8440</td><td>1.7811</td><td>0.7487</td><td>Cercevelik</td></tr>\n",
       "\t<tr><td>Cercevelik</td><td>66107</td><td> 998.146</td><td>383.8883</td><td>220.4545</td><td>67117</td><td>290.1207</td><td>0.8187</td><td>0.9850</td><td>0.6752</td><td>0.8338</td><td>1.7413</td><td>0.7557</td><td>Cercevelik</td></tr>\n",
       "\t<tr><td>⋮</td><td>⋮</td><td>⋮</td><td>⋮</td><td>⋮</td><td>⋮</td><td>⋮</td><td>⋮</td><td>⋮</td><td>⋮</td><td>⋮</td><td>⋮</td><td>⋮</td><td>⋮</td></tr>\n",
       "\t<tr><td>Urgup Sivrisi</td><td>92886</td><td>1211.852</td><td>501.5779</td><td>237.1213</td><td>93503</td><td>343.8984</td><td>0.8812</td><td>0.9934</td><td>0.6180</td><td>0.7948</td><td>2.1153</td><td>0.6856</td><td>Urgup Sivrisi</td></tr>\n",
       "\t<tr><td>Urgup Sivrisi</td><td>51555</td><td> 934.911</td><td>401.8321</td><td>164.7038</td><td>52013</td><td>256.2067</td><td>0.9121</td><td>0.9912</td><td>0.7187</td><td>0.7412</td><td>2.4397</td><td>0.6376</td><td>Urgup Sivrisi</td></tr>\n",
       "\t<tr><td>Urgup Sivrisi</td><td>69647</td><td>1084.318</td><td>462.9416</td><td>191.8210</td><td>70216</td><td>297.7874</td><td>0.9101</td><td>0.9919</td><td>0.6002</td><td>0.7444</td><td>2.4134</td><td>0.6433</td><td>Urgup Sivrisi</td></tr>\n",
       "</tbody>\n",
       "</table>\n"
      ],
      "text/latex": [
       "A tibble: 625 × 14\n",
       "\\begin{tabular}{llllllllllllll}\n",
       " .pred\\_class & Area & Perimeter & Major\\_Axis\\_Length & Minor\\_Axis\\_Length & Convex\\_Area & Equiv\\_Diameter & Eccentricity & Solidity & Extent & Roundness & Aspect\\_Ration & Compactness & Class\\\\\n",
       " <fct> & <dbl> & <dbl> & <dbl> & <dbl> & <dbl> & <dbl> & <dbl> & <dbl> & <dbl> & <dbl> & <dbl> & <dbl> & <fct>\\\\\n",
       "\\hline\n",
       "\t Cercevelik & 56276 &  888.242 & 326.1485 & 220.2388 & 56831 & 267.6805 & 0.7376 & 0.9902 & 0.7453 & 0.8963 & 1.4809 & 0.8207 & Cercevelik\\\\\n",
       "\t Cercevelik & 76631 & 1068.146 & 417.1932 & 234.2289 & 77280 & 312.3614 & 0.8275 & 0.9916 & 0.7151 & 0.8440 & 1.7811 & 0.7487 & Cercevelik\\\\\n",
       "\t Cercevelik & 66107 &  998.146 & 383.8883 & 220.4545 & 67117 & 290.1207 & 0.8187 & 0.9850 & 0.6752 & 0.8338 & 1.7413 & 0.7557 & Cercevelik\\\\\n",
       "\t ⋮ & ⋮ & ⋮ & ⋮ & ⋮ & ⋮ & ⋮ & ⋮ & ⋮ & ⋮ & ⋮ & ⋮ & ⋮ & ⋮\\\\\n",
       "\t Urgup Sivrisi & 92886 & 1211.852 & 501.5779 & 237.1213 & 93503 & 343.8984 & 0.8812 & 0.9934 & 0.6180 & 0.7948 & 2.1153 & 0.6856 & Urgup Sivrisi\\\\\n",
       "\t Urgup Sivrisi & 51555 &  934.911 & 401.8321 & 164.7038 & 52013 & 256.2067 & 0.9121 & 0.9912 & 0.7187 & 0.7412 & 2.4397 & 0.6376 & Urgup Sivrisi\\\\\n",
       "\t Urgup Sivrisi & 69647 & 1084.318 & 462.9416 & 191.8210 & 70216 & 297.7874 & 0.9101 & 0.9919 & 0.6002 & 0.7444 & 2.4134 & 0.6433 & Urgup Sivrisi\\\\\n",
       "\\end{tabular}\n"
      ],
      "text/markdown": [
       "\n",
       "A tibble: 625 × 14\n",
       "\n",
       "| .pred_class &lt;fct&gt; | Area &lt;dbl&gt; | Perimeter &lt;dbl&gt; | Major_Axis_Length &lt;dbl&gt; | Minor_Axis_Length &lt;dbl&gt; | Convex_Area &lt;dbl&gt; | Equiv_Diameter &lt;dbl&gt; | Eccentricity &lt;dbl&gt; | Solidity &lt;dbl&gt; | Extent &lt;dbl&gt; | Roundness &lt;dbl&gt; | Aspect_Ration &lt;dbl&gt; | Compactness &lt;dbl&gt; | Class &lt;fct&gt; |\n",
       "|---|---|---|---|---|---|---|---|---|---|---|---|---|---|\n",
       "| Cercevelik | 56276 |  888.242 | 326.1485 | 220.2388 | 56831 | 267.6805 | 0.7376 | 0.9902 | 0.7453 | 0.8963 | 1.4809 | 0.8207 | Cercevelik |\n",
       "| Cercevelik | 76631 | 1068.146 | 417.1932 | 234.2289 | 77280 | 312.3614 | 0.8275 | 0.9916 | 0.7151 | 0.8440 | 1.7811 | 0.7487 | Cercevelik |\n",
       "| Cercevelik | 66107 |  998.146 | 383.8883 | 220.4545 | 67117 | 290.1207 | 0.8187 | 0.9850 | 0.6752 | 0.8338 | 1.7413 | 0.7557 | Cercevelik |\n",
       "| ⋮ | ⋮ | ⋮ | ⋮ | ⋮ | ⋮ | ⋮ | ⋮ | ⋮ | ⋮ | ⋮ | ⋮ | ⋮ | ⋮ |\n",
       "| Urgup Sivrisi | 92886 | 1211.852 | 501.5779 | 237.1213 | 93503 | 343.8984 | 0.8812 | 0.9934 | 0.6180 | 0.7948 | 2.1153 | 0.6856 | Urgup Sivrisi |\n",
       "| Urgup Sivrisi | 51555 |  934.911 | 401.8321 | 164.7038 | 52013 | 256.2067 | 0.9121 | 0.9912 | 0.7187 | 0.7412 | 2.4397 | 0.6376 | Urgup Sivrisi |\n",
       "| Urgup Sivrisi | 69647 | 1084.318 | 462.9416 | 191.8210 | 70216 | 297.7874 | 0.9101 | 0.9919 | 0.6002 | 0.7444 | 2.4134 | 0.6433 | Urgup Sivrisi |\n",
       "\n"
      ],
      "text/plain": [
       "    .pred_class   Area  Perimeter Major_Axis_Length Minor_Axis_Length\n",
       "1   Cercevelik    56276  888.242  326.1485          220.2388         \n",
       "2   Cercevelik    76631 1068.146  417.1932          234.2289         \n",
       "3   Cercevelik    66107  998.146  383.8883          220.4545         \n",
       "⋮   ⋮             ⋮     ⋮         ⋮                 ⋮                \n",
       "623 Urgup Sivrisi 92886 1211.852  501.5779          237.1213         \n",
       "624 Urgup Sivrisi 51555  934.911  401.8321          164.7038         \n",
       "625 Urgup Sivrisi 69647 1084.318  462.9416          191.8210         \n",
       "    Convex_Area Equiv_Diameter Eccentricity Solidity Extent Roundness\n",
       "1   56831       267.6805       0.7376       0.9902   0.7453 0.8963   \n",
       "2   77280       312.3614       0.8275       0.9916   0.7151 0.8440   \n",
       "3   67117       290.1207       0.8187       0.9850   0.6752 0.8338   \n",
       "⋮   ⋮           ⋮              ⋮            ⋮        ⋮      ⋮        \n",
       "623 93503       343.8984       0.8812       0.9934   0.6180 0.7948   \n",
       "624 52013       256.2067       0.9121       0.9912   0.7187 0.7412   \n",
       "625 70216       297.7874       0.9101       0.9919   0.6002 0.7444   \n",
       "    Aspect_Ration Compactness Class        \n",
       "1   1.4809        0.8207      Cercevelik   \n",
       "2   1.7811        0.7487      Cercevelik   \n",
       "3   1.7413        0.7557      Cercevelik   \n",
       "⋮   ⋮             ⋮           ⋮            \n",
       "623 2.1153        0.6856      Urgup Sivrisi\n",
       "624 2.4397        0.6376      Urgup Sivrisi\n",
       "625 2.4134        0.6433      Urgup Sivrisi"
      ]
     },
     "metadata": {},
     "output_type": "display_data"
    },
    {
     "data": {
      "text/html": [
       "<table>\n",
       "<caption>A tibble: 1 × 3</caption>\n",
       "<thead>\n",
       "\t<tr><th scope=col>.metric</th><th scope=col>.estimator</th><th scope=col>.estimate</th></tr>\n",
       "\t<tr><th scope=col>&lt;chr&gt;</th><th scope=col>&lt;chr&gt;</th><th scope=col>&lt;dbl&gt;</th></tr>\n",
       "</thead>\n",
       "<tbody>\n",
       "\t<tr><td>accuracy</td><td>binary</td><td>0.8768</td></tr>\n",
       "</tbody>\n",
       "</table>\n"
      ],
      "text/latex": [
       "A tibble: 1 × 3\n",
       "\\begin{tabular}{lll}\n",
       " .metric & .estimator & .estimate\\\\\n",
       " <chr> & <chr> & <dbl>\\\\\n",
       "\\hline\n",
       "\t accuracy & binary & 0.8768\\\\\n",
       "\\end{tabular}\n"
      ],
      "text/markdown": [
       "\n",
       "A tibble: 1 × 3\n",
       "\n",
       "| .metric &lt;chr&gt; | .estimator &lt;chr&gt; | .estimate &lt;dbl&gt; |\n",
       "|---|---|---|\n",
       "| accuracy | binary | 0.8768 |\n",
       "\n"
      ],
      "text/plain": [
       "  .metric  .estimator .estimate\n",
       "1 accuracy binary     0.8768   "
      ]
     },
     "metadata": {},
     "output_type": "display_data"
    },
    {
     "data": {
      "text/plain": [
       "               Truth\n",
       "Prediction      Cercevelik Urgup Sivrisi\n",
       "  Cercevelik           295            47\n",
       "  Urgup Sivrisi         30           253"
      ]
     },
     "metadata": {},
     "output_type": "display_data"
    }
   ],
   "source": [
    "best_model<-nearest_neighbor(weight_func=\"rectangular\", neighbors = best_k)%>% set_engine(\"kknn\") %>%set_mode(\"classification\")\n",
    "\n",
    "best_fit<-workflow()%>%add_recipe(pumpkin_recipe)%>%add_model(best_model)%>%fit(pumpkin_train)\n",
    "\n",
    "predictions<-best_fit%>%predict(pumpkin_test)%>%bind_cols(pumpkin_test)\n",
    "\n",
    "metrics<-predictions%>%metrics(truth = Class, estimate = .pred_class)%>%filter(.metric==\"accuracy\")\n",
    "metrics\n",
    "conf_mat<-predictions%>%conf_mat(truth = Class, estimate = .pred_class)\n",
    "conf_mat"
   ]
  }
 ],
 "metadata": {
  "kernelspec": {
   "display_name": "R",
   "language": "R",
   "name": "ir"
  },
  "language_info": {
   "codemirror_mode": "r",
   "file_extension": ".r",
   "mimetype": "text/x-r-source",
   "name": "R",
   "pygments_lexer": "r",
   "version": "4.0.0"
  }
 },
 "nbformat": 4,
 "nbformat_minor": 4
}
