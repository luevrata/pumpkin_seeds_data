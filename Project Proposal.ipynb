{
 "cells": [
  {
   "cell_type": "code",
   "execution_count": 1,
   "metadata": {},
   "outputs": [
    {
     "name": "stderr",
     "output_type": "stream",
     "text": [
      "── \u001b[1mAttaching packages\u001b[22m ─────────────────────────────────────── tidyverse 1.3.0 ──\n",
      "\n",
      "\u001b[32m✔\u001b[39m \u001b[34mggplot2\u001b[39m 3.3.2     \u001b[32m✔\u001b[39m \u001b[34mpurrr  \u001b[39m 0.3.4\n",
      "\u001b[32m✔\u001b[39m \u001b[34mtibble \u001b[39m 3.0.3     \u001b[32m✔\u001b[39m \u001b[34mdplyr  \u001b[39m 1.0.2\n",
      "\u001b[32m✔\u001b[39m \u001b[34mtidyr  \u001b[39m 1.1.2     \u001b[32m✔\u001b[39m \u001b[34mstringr\u001b[39m 1.4.0\n",
      "\u001b[32m✔\u001b[39m \u001b[34mreadr  \u001b[39m 1.3.1     \u001b[32m✔\u001b[39m \u001b[34mforcats\u001b[39m 0.5.0\n",
      "\n",
      "Warning message:\n",
      "“package ‘ggplot2’ was built under R version 4.0.1”\n",
      "Warning message:\n",
      "“package ‘tibble’ was built under R version 4.0.2”\n",
      "Warning message:\n",
      "“package ‘tidyr’ was built under R version 4.0.2”\n",
      "Warning message:\n",
      "“package ‘dplyr’ was built under R version 4.0.2”\n",
      "── \u001b[1mConflicts\u001b[22m ────────────────────────────────────────── tidyverse_conflicts() ──\n",
      "\u001b[31m✖\u001b[39m \u001b[34mdplyr\u001b[39m::\u001b[32mfilter()\u001b[39m masks \u001b[34mstats\u001b[39m::filter()\n",
      "\u001b[31m✖\u001b[39m \u001b[34mdplyr\u001b[39m::\u001b[32mlag()\u001b[39m    masks \u001b[34mstats\u001b[39m::lag()\n",
      "\n",
      "Warning message:\n",
      "“package ‘tidymodels’ was built under R version 4.0.2”\n",
      "── \u001b[1mAttaching packages\u001b[22m ────────────────────────────────────── tidymodels 0.1.1 ──\n",
      "\n",
      "\u001b[32m✔\u001b[39m \u001b[34mbroom    \u001b[39m 0.7.0      \u001b[32m✔\u001b[39m \u001b[34mrecipes  \u001b[39m 0.1.13\n",
      "\u001b[32m✔\u001b[39m \u001b[34mdials    \u001b[39m 0.0.9      \u001b[32m✔\u001b[39m \u001b[34mrsample  \u001b[39m 0.0.7 \n",
      "\u001b[32m✔\u001b[39m \u001b[34minfer    \u001b[39m 0.5.4      \u001b[32m✔\u001b[39m \u001b[34mtune     \u001b[39m 0.1.1 \n",
      "\u001b[32m✔\u001b[39m \u001b[34mmodeldata\u001b[39m 0.0.2      \u001b[32m✔\u001b[39m \u001b[34mworkflows\u001b[39m 0.2.0 \n",
      "\u001b[32m✔\u001b[39m \u001b[34mparsnip  \u001b[39m 0.1.3      \u001b[32m✔\u001b[39m \u001b[34myardstick\u001b[39m 0.0.7 \n",
      "\n",
      "Warning message:\n",
      "“package ‘broom’ was built under R version 4.0.2”\n",
      "Warning message:\n",
      "“package ‘dials’ was built under R version 4.0.2”\n",
      "Warning message:\n",
      "“package ‘infer’ was built under R version 4.0.3”\n",
      "Warning message:\n",
      "“package ‘modeldata’ was built under R version 4.0.1”\n",
      "Warning message:\n",
      "“package ‘parsnip’ was built under R version 4.0.2”\n",
      "Warning message:\n",
      "“package ‘recipes’ was built under R version 4.0.1”\n",
      "Warning message:\n",
      "“package ‘tune’ was built under R version 4.0.2”\n",
      "Warning message:\n",
      "“package ‘workflows’ was built under R version 4.0.2”\n",
      "Warning message:\n",
      "“package ‘yardstick’ was built under R version 4.0.2”\n",
      "── \u001b[1mConflicts\u001b[22m ───────────────────────────────────────── tidymodels_conflicts() ──\n",
      "\u001b[31m✖\u001b[39m \u001b[34mscales\u001b[39m::\u001b[32mdiscard()\u001b[39m masks \u001b[34mpurrr\u001b[39m::discard()\n",
      "\u001b[31m✖\u001b[39m \u001b[34mdplyr\u001b[39m::\u001b[32mfilter()\u001b[39m   masks \u001b[34mstats\u001b[39m::filter()\n",
      "\u001b[31m✖\u001b[39m \u001b[34mrecipes\u001b[39m::\u001b[32mfixed()\u001b[39m  masks \u001b[34mstringr\u001b[39m::fixed()\n",
      "\u001b[31m✖\u001b[39m \u001b[34mdplyr\u001b[39m::\u001b[32mlag()\u001b[39m      masks \u001b[34mstats\u001b[39m::lag()\n",
      "\u001b[31m✖\u001b[39m \u001b[34myardstick\u001b[39m::\u001b[32mspec()\u001b[39m masks \u001b[34mreadr\u001b[39m::spec()\n",
      "\u001b[31m✖\u001b[39m \u001b[34mrecipes\u001b[39m::\u001b[32mstep()\u001b[39m   masks \u001b[34mstats\u001b[39m::step()\n",
      "\n",
      "Warning message in file(filename, \"r\", encoding = encoding):\n",
      "“cannot open file 'tests.R': No such file or directory”\n"
     ]
    },
    {
     "ename": "ERROR",
     "evalue": "Error in file(filename, \"r\", encoding = encoding): cannot open the connection\n",
     "output_type": "error",
     "traceback": [
      "Error in file(filename, \"r\", encoding = encoding): cannot open the connection\nTraceback:\n",
      "1. source(\"tests.R\")",
      "2. file(filename, \"r\", encoding = encoding)"
     ]
    }
   ],
   "source": [
    "library(repr)\n",
    "library(tidyverse)\n",
    "library(tidymodels)\n",
    "options(repr.matrix.max.rows = 6)\n",
    "source('tests.R')\n",
    "source(\"cleanup.R\")"
   ]
  },
  {
   "cell_type": "code",
   "execution_count": 2,
   "metadata": {},
   "outputs": [
    {
     "name": "stderr",
     "output_type": "stream",
     "text": [
      "Parsed with column specification:\n",
      "cols(\n",
      "  Area = \u001b[32mcol_double()\u001b[39m,\n",
      "  Perimeter = \u001b[32mcol_double()\u001b[39m,\n",
      "  Major_Axis_Length = \u001b[32mcol_double()\u001b[39m,\n",
      "  Minor_Axis_Length = \u001b[32mcol_double()\u001b[39m,\n",
      "  Convex_Area = \u001b[32mcol_double()\u001b[39m,\n",
      "  Equiv_Diameter = \u001b[32mcol_double()\u001b[39m,\n",
      "  Eccentricity = \u001b[32mcol_double()\u001b[39m,\n",
      "  Solidity = \u001b[32mcol_double()\u001b[39m,\n",
      "  Extent = \u001b[32mcol_double()\u001b[39m,\n",
      "  Roundness = \u001b[32mcol_double()\u001b[39m,\n",
      "  Aspect_Ration = \u001b[32mcol_double()\u001b[39m,\n",
      "  Compactness = \u001b[32mcol_double()\u001b[39m,\n",
      "  Class = \u001b[31mcol_character()\u001b[39m\n",
      ")\n",
      "\n"
     ]
    },
    {
     "data": {
      "text/html": [
       "<table>\n",
       "<caption>A spec_tbl_df: 2500 × 13</caption>\n",
       "<thead>\n",
       "\t<tr><th scope=col>Area</th><th scope=col>Perimeter</th><th scope=col>Major_Axis_Length</th><th scope=col>Minor_Axis_Length</th><th scope=col>Convex_Area</th><th scope=col>Equiv_Diameter</th><th scope=col>Eccentricity</th><th scope=col>Solidity</th><th scope=col>Extent</th><th scope=col>Roundness</th><th scope=col>Aspect_Ration</th><th scope=col>Compactness</th><th scope=col>Class</th></tr>\n",
       "\t<tr><th scope=col>&lt;dbl&gt;</th><th scope=col>&lt;dbl&gt;</th><th scope=col>&lt;dbl&gt;</th><th scope=col>&lt;dbl&gt;</th><th scope=col>&lt;dbl&gt;</th><th scope=col>&lt;dbl&gt;</th><th scope=col>&lt;dbl&gt;</th><th scope=col>&lt;dbl&gt;</th><th scope=col>&lt;dbl&gt;</th><th scope=col>&lt;dbl&gt;</th><th scope=col>&lt;dbl&gt;</th><th scope=col>&lt;dbl&gt;</th><th scope=col>&lt;fct&gt;</th></tr>\n",
       "</thead>\n",
       "<tbody>\n",
       "\t<tr><td>56276</td><td> 888.242</td><td>326.1485</td><td>220.2388</td><td>56831</td><td>267.6805</td><td>0.7376</td><td>0.9902</td><td>0.7453</td><td>0.8963</td><td>1.4809</td><td>0.8207</td><td>Çerçevelik</td></tr>\n",
       "\t<tr><td>76631</td><td>1068.146</td><td>417.1932</td><td>234.2289</td><td>77280</td><td>312.3614</td><td>0.8275</td><td>0.9916</td><td>0.7151</td><td>0.8440</td><td>1.7811</td><td>0.7487</td><td>Çerçevelik</td></tr>\n",
       "\t<tr><td>71623</td><td>1082.987</td><td>435.8328</td><td>211.0457</td><td>72663</td><td>301.9822</td><td>0.8749</td><td>0.9857</td><td>0.7400</td><td>0.7674</td><td>2.0651</td><td>0.6929</td><td>Çerçevelik</td></tr>\n",
       "\t<tr><td>⋮</td><td>⋮</td><td>⋮</td><td>⋮</td><td>⋮</td><td>⋮</td><td>⋮</td><td>⋮</td><td>⋮</td><td>⋮</td><td>⋮</td><td>⋮</td><td>⋮</td></tr>\n",
       "\t<tr><td>87994</td><td>1210.314</td><td>507.2200</td><td>222.1872</td><td>88702</td><td>334.7199</td><td>0.8990</td><td>0.9920</td><td>0.7643</td><td>0.7549</td><td>2.2828</td><td>0.6599</td><td>Ürgüp Sivrisi</td></tr>\n",
       "\t<tr><td>80011</td><td>1182.947</td><td>501.9065</td><td>204.7531</td><td>80902</td><td>319.1758</td><td>0.9130</td><td>0.9890</td><td>0.7374</td><td>0.7185</td><td>2.4513</td><td>0.6359</td><td>Ürgüp Sivrisi</td></tr>\n",
       "\t<tr><td>84934</td><td>1159.933</td><td>462.8951</td><td>234.5597</td><td>85781</td><td>328.8485</td><td>0.8621</td><td>0.9901</td><td>0.7360</td><td>0.7933</td><td>1.9735</td><td>0.7104</td><td>Ürgüp Sivrisi</td></tr>\n",
       "</tbody>\n",
       "</table>\n"
      ],
      "text/latex": [
       "A spec\\_tbl\\_df: 2500 × 13\n",
       "\\begin{tabular}{lllllllllllll}\n",
       " Area & Perimeter & Major\\_Axis\\_Length & Minor\\_Axis\\_Length & Convex\\_Area & Equiv\\_Diameter & Eccentricity & Solidity & Extent & Roundness & Aspect\\_Ration & Compactness & Class\\\\\n",
       " <dbl> & <dbl> & <dbl> & <dbl> & <dbl> & <dbl> & <dbl> & <dbl> & <dbl> & <dbl> & <dbl> & <dbl> & <fct>\\\\\n",
       "\\hline\n",
       "\t 56276 &  888.242 & 326.1485 & 220.2388 & 56831 & 267.6805 & 0.7376 & 0.9902 & 0.7453 & 0.8963 & 1.4809 & 0.8207 & Çerçevelik\\\\\n",
       "\t 76631 & 1068.146 & 417.1932 & 234.2289 & 77280 & 312.3614 & 0.8275 & 0.9916 & 0.7151 & 0.8440 & 1.7811 & 0.7487 & Çerçevelik\\\\\n",
       "\t 71623 & 1082.987 & 435.8328 & 211.0457 & 72663 & 301.9822 & 0.8749 & 0.9857 & 0.7400 & 0.7674 & 2.0651 & 0.6929 & Çerçevelik\\\\\n",
       "\t ⋮ & ⋮ & ⋮ & ⋮ & ⋮ & ⋮ & ⋮ & ⋮ & ⋮ & ⋮ & ⋮ & ⋮ & ⋮\\\\\n",
       "\t 87994 & 1210.314 & 507.2200 & 222.1872 & 88702 & 334.7199 & 0.8990 & 0.9920 & 0.7643 & 0.7549 & 2.2828 & 0.6599 & Ürgüp Sivrisi\\\\\n",
       "\t 80011 & 1182.947 & 501.9065 & 204.7531 & 80902 & 319.1758 & 0.9130 & 0.9890 & 0.7374 & 0.7185 & 2.4513 & 0.6359 & Ürgüp Sivrisi\\\\\n",
       "\t 84934 & 1159.933 & 462.8951 & 234.5597 & 85781 & 328.8485 & 0.8621 & 0.9901 & 0.7360 & 0.7933 & 1.9735 & 0.7104 & Ürgüp Sivrisi\\\\\n",
       "\\end{tabular}\n"
      ],
      "text/markdown": [
       "\n",
       "A spec_tbl_df: 2500 × 13\n",
       "\n",
       "| Area &lt;dbl&gt; | Perimeter &lt;dbl&gt; | Major_Axis_Length &lt;dbl&gt; | Minor_Axis_Length &lt;dbl&gt; | Convex_Area &lt;dbl&gt; | Equiv_Diameter &lt;dbl&gt; | Eccentricity &lt;dbl&gt; | Solidity &lt;dbl&gt; | Extent &lt;dbl&gt; | Roundness &lt;dbl&gt; | Aspect_Ration &lt;dbl&gt; | Compactness &lt;dbl&gt; | Class &lt;fct&gt; |\n",
       "|---|---|---|---|---|---|---|---|---|---|---|---|---|\n",
       "| 56276 |  888.242 | 326.1485 | 220.2388 | 56831 | 267.6805 | 0.7376 | 0.9902 | 0.7453 | 0.8963 | 1.4809 | 0.8207 | Çerçevelik |\n",
       "| 76631 | 1068.146 | 417.1932 | 234.2289 | 77280 | 312.3614 | 0.8275 | 0.9916 | 0.7151 | 0.8440 | 1.7811 | 0.7487 | Çerçevelik |\n",
       "| 71623 | 1082.987 | 435.8328 | 211.0457 | 72663 | 301.9822 | 0.8749 | 0.9857 | 0.7400 | 0.7674 | 2.0651 | 0.6929 | Çerçevelik |\n",
       "| ⋮ | ⋮ | ⋮ | ⋮ | ⋮ | ⋮ | ⋮ | ⋮ | ⋮ | ⋮ | ⋮ | ⋮ | ⋮ |\n",
       "| 87994 | 1210.314 | 507.2200 | 222.1872 | 88702 | 334.7199 | 0.8990 | 0.9920 | 0.7643 | 0.7549 | 2.2828 | 0.6599 | Ürgüp Sivrisi |\n",
       "| 80011 | 1182.947 | 501.9065 | 204.7531 | 80902 | 319.1758 | 0.9130 | 0.9890 | 0.7374 | 0.7185 | 2.4513 | 0.6359 | Ürgüp Sivrisi |\n",
       "| 84934 | 1159.933 | 462.8951 | 234.5597 | 85781 | 328.8485 | 0.8621 | 0.9901 | 0.7360 | 0.7933 | 1.9735 | 0.7104 | Ürgüp Sivrisi |\n",
       "\n"
      ],
      "text/plain": [
       "     Area  Perimeter Major_Axis_Length Minor_Axis_Length Convex_Area\n",
       "1    56276  888.242  326.1485          220.2388          56831      \n",
       "2    76631 1068.146  417.1932          234.2289          77280      \n",
       "3    71623 1082.987  435.8328          211.0457          72663      \n",
       "⋮    ⋮     ⋮         ⋮                 ⋮                 ⋮          \n",
       "2498 87994 1210.314  507.2200          222.1872          88702      \n",
       "2499 80011 1182.947  501.9065          204.7531          80902      \n",
       "2500 84934 1159.933  462.8951          234.5597          85781      \n",
       "     Equiv_Diameter Eccentricity Solidity Extent Roundness Aspect_Ration\n",
       "1    267.6805       0.7376       0.9902   0.7453 0.8963    1.4809       \n",
       "2    312.3614       0.8275       0.9916   0.7151 0.8440    1.7811       \n",
       "3    301.9822       0.8749       0.9857   0.7400 0.7674    2.0651       \n",
       "⋮    ⋮              ⋮            ⋮        ⋮      ⋮         ⋮            \n",
       "2498 334.7199       0.8990       0.9920   0.7643 0.7549    2.2828       \n",
       "2499 319.1758       0.9130       0.9890   0.7374 0.7185    2.4513       \n",
       "2500 328.8485       0.8621       0.9901   0.7360 0.7933    1.9735       \n",
       "     Compactness Class        \n",
       "1    0.8207      Çerçevelik   \n",
       "2    0.7487      Çerçevelik   \n",
       "3    0.6929      Çerçevelik   \n",
       "⋮    ⋮           ⋮            \n",
       "2498 0.6599      Ürgüp Sivrisi\n",
       "2499 0.6359      Ürgüp Sivrisi\n",
       "2500 0.7104      Ürgüp Sivrisi"
      ]
     },
     "metadata": {},
     "output_type": "display_data"
    }
   ],
   "source": [
    "pumpkin_data <- read_csv(\"Pumpkin_Seeds_Dataset.csv\")\n",
    "pumpkin_data <- pumpkin_data %>% mutate(Class = as.factor(Class))\n",
    "pumpkin_data"
   ]
  },
  {
   "cell_type": "markdown",
   "metadata": {},
   "source": [
    "## Preliminary exploratory data analysis:"
   ]
  },
  {
   "cell_type": "code",
   "execution_count": null,
   "metadata": {},
   "outputs": [],
   "source": [
    "pumpkin_split <- initial_split(pumpkin_data, prop = 0.75, strata = Class)\n",
    "pumpkin_train <- training(pumpkin_split)\n",
    "pumpkin_test <- testing(pumpkin_split)\n",
    "\n",
    "pumpkin_plot <- ggplot(pumpkin_train, aes(x = Solidity, y = Roundness, color = Class)) + geom_point(alpha = 0.5)\n",
    "pumpkin_plot"
   ]
  }
 ],
 "metadata": {
  "kernelspec": {
   "display_name": "R",
   "language": "R",
   "name": "ir"
  },
  "language_info": {
   "codemirror_mode": "r",
   "file_extension": ".r",
   "mimetype": "text/x-r-source",
   "name": "R",
   "pygments_lexer": "r",
   "version": "4.0.0"
  }
 },
 "nbformat": 4,
 "nbformat_minor": 4
}
